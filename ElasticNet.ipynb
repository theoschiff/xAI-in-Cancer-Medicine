{
 "cells": [
  {
   "cell_type": "markdown",
   "metadata": {},
   "source": [
    "## Elastic Net for Drug Response Prediction"
   ]
  },
  {
   "cell_type": "markdown",
   "metadata": {},
   "source": [
    "worried of curse of dimensionality with NN, sticking to simpler models \n",
    "\n",
    "Why Elastic Net?\n",
    "\n",
    "- Handles High Dimensionality: Performs feature selection to ignore irrelevant features.\n",
    "- Avoids Overfitting: Regularization prevents overfitting on small datasets.\n",
    "- Efficient: Scales well for your dataset size."
   ]
  },
  {
   "cell_type": "code",
   "execution_count": 1,
   "metadata": {},
   "outputs": [],
   "source": [
    "%load_ext autoreload\n",
    "%autoreload 2"
   ]
  },
  {
   "cell_type": "markdown",
   "metadata": {},
   "source": [
    "### <b> Imports </b>"
   ]
  },
  {
   "cell_type": "code",
   "execution_count": 2,
   "metadata": {},
   "outputs": [
    {
     "name": "stderr",
     "output_type": "stream",
     "text": [
      "/Users/schif/anaconda3/envs/ml_env/lib/python3.11/site-packages/fpdf/__init__.py:40: UserWarning: You have both PyFPDF & fpdf2 installed. Both packages cannot be installed at the same time as they share the same module namespace. To only keep fpdf2, run: pip uninstall --yes pypdf && pip install --upgrade fpdf2\n",
      "  warnings.warn(\n"
     ]
    }
   ],
   "source": [
    "from sklearn.linear_model import ElasticNet, Ridge\n",
    "from sklearn.preprocessing import StandardScaler\n",
    "from sklearn.model_selection import cross_val_score, KFold, train_test_split\n",
    "from sklearn.metrics import make_scorer, mean_squared_error, r2_score\n",
    "from sklearn.feature_selection import SelectKBest, mutual_info_regression\n",
    "from scipy.stats import spearmanr\n",
    "from sklearn.decomposition import PCA\n",
    "from src.data_loader import load_base_data\n",
    "from src.submission import generate_submission, generate_pdf_with_explanations\n",
    "\n",
    "\n",
    "import matplotlib.pyplot as plt\n",
    "import numpy as np\n",
    "import pandas as pd\n"
   ]
  },
  {
   "cell_type": "markdown",
   "metadata": {},
   "source": [
    "### <b> Load Data </b>"
   ]
  },
  {
   "cell_type": "code",
   "execution_count": 3,
   "metadata": {},
   "outputs": [],
   "source": [
    "x_train, y_train, x_test = load_base_data()"
   ]
  },
  {
   "cell_type": "markdown",
   "metadata": {},
   "source": [
    " ### <b> Model Definition </b>"
   ]
  },
  {
   "cell_type": "code",
   "execution_count": 4,
   "metadata": {},
   "outputs": [],
   "source": [
    "elastic_net = ElasticNet(alpha=0.8, l1_ratio=0.01, random_state=42)"
   ]
  },
  {
   "cell_type": "markdown",
   "metadata": {},
   "source": [
    "### <b> Scaling and Feature Selection </b>"
   ]
  },
  {
   "cell_type": "code",
   "execution_count": 5,
   "metadata": {},
   "outputs": [],
   "source": [
    "def spearman_scorer(estimator, X, y):\n",
    "    y_pred = estimator.predict(X)\n",
    "    return spearmanr(y, y_pred).correlation\n",
    "\n",
    "# scale features\n",
    "scaler = StandardScaler()\n",
    "# Train-Test Split\n",
    "X_train, X_val, Y_train, Y_test = train_test_split(\n",
    "    x_train, y_train, test_size=0.2, random_state=42\n",
    ")\n",
    "\n",
    "X_scaled = scaler.fit_transform(X_train) \n",
    "X_val_scaled = scaler.transform(X_val) # WARNING: Only transform, do not fit !!! Was already fitted on training data\n",
    "\n",
    "# Feature selection\n",
    "k_best = 500  # Select top 500 features\n",
    "selector = SelectKBest(mutual_info_regression, k=k_best)\n",
    "X_scaled = selector.fit_transform(X_scaled, Y_train)\n",
    "X_val_scaled = selector.transform(X_val_scaled)"
   ]
  },
  {
   "cell_type": "code",
   "execution_count": 6,
   "metadata": {},
   "outputs": [
    {
     "name": "stdout",
     "output_type": "stream",
     "text": [
      "Spearman Correlation (KFold): 0.48439809743056744\n",
      "RMSE (KFold): 0.09228828273890959\n",
      "R-squared (KFold): 0.22057399348132856\n",
      "Spearman Correlation (Test): 0.3745967482286578\n",
      "RMSE (Test): 0.07784428429521538\n",
      "R-squared (Test): 0.19053325718865344\n"
     ]
    }
   ],
   "source": [
    "def run_elastic_net(X_scaled, y_train, X_val_scaled, Y_test):\n",
    "    kf = KFold(n_splits=5, shuffle=True, random_state=42)\n",
    "    all_y_true = []\n",
    "    all_y_pred = []\n",
    "\n",
    "    for train_idx, val_idx in kf.split(X_scaled):\n",
    "        X_train_fold, X_val_fold = X_scaled[train_idx], X_scaled[val_idx]\n",
    "        y_train_fold, y_val_fold = y_train.iloc[train_idx], y_train.iloc[val_idx]\n",
    "\n",
    "        elastic_net.fit(X_train_fold, y_train_fold)\n",
    "\n",
    "        y_pred = elastic_net.predict(X_val_fold)\n",
    "        all_y_true.extend(y_val_fold.values.flatten())\n",
    "        all_y_pred.extend(y_pred)\n",
    "\n",
    "    spearman_corr, _ = spearmanr(all_y_true, all_y_pred)\n",
    "    rmse = np.sqrt(mean_squared_error(all_y_true, all_y_pred))\n",
    "    r2 = r2_score(all_y_true, all_y_pred)\n",
    "\n",
    "    print(f\"Spearman Correlation (KFold): {spearman_corr}\")\n",
    "    print(f\"RMSE (KFold): {rmse}\")\n",
    "    print(f\"R-squared (KFold): {r2}\")\n",
    "\n",
    "\n",
    "    elastic_net.fit(X_scaled, Y_train)\n",
    "    y_test_pred = elastic_net.predict(X_val_scaled)\n",
    "\n",
    "    spearman_corr_test, _ = spearmanr(Y_test.values.flatten(), y_test_pred)\n",
    "    rmse_test = np.sqrt(mean_squared_error(Y_test, y_test_pred))\n",
    "    r2_test = r2_score(Y_test, y_test_pred)\n",
    "\n",
    "    print(f\"Spearman Correlation (Test): {spearman_corr_test}\")\n",
    "    print(f\"RMSE (Test): {rmse_test}\")\n",
    "    print(f\"R-squared (Test): {r2_test}\")\n",
    "\n",
    "    return spearman_corr_test, rmse_test, r2_test\n",
    "\n",
    "spearman_corr_test, rmse_test, r2_test = run_elastic_net(X_scaled, Y_train, X_val_scaled, Y_test)\n"
   ]
  },
  {
   "cell_type": "markdown",
   "metadata": {},
   "source": [
    "### <b> Generate a full submission </b>\n",
    "assumes already generated Shap plots and LLaMa Generations for this model"
   ]
  },
  {
   "cell_type": "code",
   "execution_count": 7,
   "metadata": {},
   "outputs": [
    {
     "name": "stderr",
     "output_type": "stream",
     "text": [
      "/Users/schif/anaconda3/envs/ml_env/lib/python3.11/site-packages/sklearn/base.py:457: UserWarning: X has feature names, but SelectKBest was fitted without feature names\n",
      "  warnings.warn(\n",
      "2024-12-17 23:41:43,583 - INFO - Generating submission file elastic_net_submission.csv\n",
      "2024-12-17 23:41:43,586 - INFO - Submission file elastic_net_submission.csv has been generated successfully\n",
      "2024-12-17 23:41:43,587 - INFO - Generating PDF file...\n",
      "2024-12-17 23:41:44,165 - INFO - PDF generated: explanations.pdf\n"
     ]
    }
   ],
   "source": [
    "generate_submission(elastic_net,x_test, scaler, x_train.columns, selector=selector, filename_csv=\"elastic_net_submission.csv\")"
   ]
  },
  {
   "cell_type": "markdown",
   "metadata": {},
   "source": [
    "### <b> Generate submission </b>\n",
    "predictions csv only 🕺🏽"
   ]
  },
  {
   "cell_type": "code",
   "execution_count": null,
   "metadata": {},
   "outputs": [],
   "source": [
    "# x_test_reduced = pca.transform(x_test)\n",
    "x_test_scaled = scaler.transform(x_test) \n",
    "# x_test_scaled = selector.transform(x_test_scaled)\n",
    "y_pred = elastic_net.predict(x_test_scaled)\n",
    "\n",
    "predictions = pd.DataFrame({\"sampleId\": x_test.index, \"AAC\": y_pred.flatten()})\n",
    "predictions[\"sampleId\"] = predictions[\"sampleId\"].apply(lambda x: x.replace(\"CL\", \"TS\"))\n",
    "predictions.to_csv(\"elastid.csv\", index=False)"
   ]
  },
  {
   "cell_type": "markdown",
   "metadata": {},
   "source": [
    "### <u> Find best params for model <u>"
   ]
  },
  {
   "cell_type": "code",
   "execution_count": null,
   "metadata": {},
   "outputs": [
    {
     "name": "stdout",
     "output_type": "stream",
     "text": [
      "Alpha: 0.001, L1 Ratio: 0.1, Spearman (KFold): 0.1507, R^2 (KFold): -5.5167\n",
      "Alpha: 0.001, L1 Ratio: 0.3, Spearman (KFold): 0.1626, R^2 (KFold): -2.0148\n",
      "Alpha: 0.001, L1 Ratio: 0.5, Spearman (KFold): 0.1869, R^2 (KFold): -1.0918\n",
      "Alpha: 0.001, L1 Ratio: 0.7, Spearman (KFold): 0.1911, R^2 (KFold): -0.7109\n",
      "Alpha: 0.001, L1 Ratio: 0.9, Spearman (KFold): 0.1958, R^2 (KFold): -0.5087\n",
      "Alpha: 0.005, L1 Ratio: 0.1, Spearman (KFold): 0.1859, R^2 (KFold): -1.0205\n",
      "Alpha: 0.005, L1 Ratio: 0.3, Spearman (KFold): 0.2127, R^2 (KFold): -0.2118\n",
      "Alpha: 0.005, L1 Ratio: 0.5, Spearman (KFold): 0.2305, R^2 (KFold): -0.0348\n",
      "Alpha: 0.005, L1 Ratio: 0.7, Spearman (KFold): 0.2535, R^2 (KFold): 0.0521\n",
      "Alpha: 0.005, L1 Ratio: 0.9, Spearman (KFold): 0.2683, R^2 (KFold): 0.0968\n",
      "Alpha: 0.01, L1 Ratio: 0.1, Spearman (KFold): 0.2000, R^2 (KFold): -0.3981\n",
      "Alpha: 0.01, L1 Ratio: 0.3, Spearman (KFold): 0.2409, R^2 (KFold): 0.0163\n",
      "Alpha: 0.01, L1 Ratio: 0.5, Spearman (KFold): 0.2731, R^2 (KFold): 0.1097\n",
      "Alpha: 0.01, L1 Ratio: 0.7, Spearman (KFold): 0.2908, R^2 (KFold): 0.1317\n",
      "Alpha: 0.01, L1 Ratio: 0.9, Spearman (KFold): 0.3071, R^2 (KFold): 0.1332\n",
      "Alpha: 0.02, L1 Ratio: 0.1, Spearman (KFold): 0.2219, R^2 (KFold): -0.0846\n",
      "Alpha: 0.02, L1 Ratio: 0.3, Spearman (KFold): 0.2782, R^2 (KFold): 0.1220\n",
      "Alpha: 0.02, L1 Ratio: 0.5, Spearman (KFold): 0.3098, R^2 (KFold): 0.1257\n",
      "Alpha: 0.02, L1 Ratio: 0.7, Spearman (KFold): 0.2969, R^2 (KFold): 0.0917\n",
      "Alpha: 0.02, L1 Ratio: 0.9, Spearman (KFold): 0.2671, R^2 (KFold): 0.0668\n",
      "Alpha: 0.05, L1 Ratio: 0.1, Spearman (KFold): 0.2736, R^2 (KFold): 0.1124\n",
      "Alpha: 0.05, L1 Ratio: 0.3, Spearman (KFold): 0.2911, R^2 (KFold): 0.0835\n",
      "Alpha: 0.05, L1 Ratio: 0.5, Spearman (KFold): 0.2048, R^2 (KFold): 0.0321\n",
      "Alpha: 0.05, L1 Ratio: 0.7, Spearman (KFold): -0.0867, R^2 (KFold): -0.0040\n",
      "Alpha: 0.05, L1 Ratio: 0.9, Spearman (KFold): -0.0867, R^2 (KFold): -0.0040\n",
      "\n",
      "Best Parameters (by Spearman):\n",
      "Alpha: 0.02, L1 Ratio: 0.5\n",
      "Best Spearman Correlation (KFold): 0.3098\n",
      "Best R-squared (KFold): 0.1257\n",
      "\n",
      "Test Set Evaluation:\n",
      "Spearman Correlation (Test): 0.3263\n",
      "RMSE (Test): 0.0832\n",
      "R-squared (Test): -0.0874\n"
     ]
    }
   ],
   "source": [
    "alphas = [i for i in np.linspace(0.1, 1, 10)]\n",
    "l1_ratios = [i for i in np.linspace(0.1, 1, 10)]\n",
    "results = []\n",
    "\n",
    "kf = KFold(n_splits=5, shuffle=True, random_state=42)\n",
    "\n",
    "# Grid search over alpha and l1_ratio\n",
    "for alpha in alphas:\n",
    "    for l1_ratio in l1_ratios:\n",
    "        all_y_true = []\n",
    "        all_y_pred = []\n",
    "\n",
    "        for train_idx, val_idx in kf.split(X_scaled):\n",
    "            # Train-validation split for current fold\n",
    "            X_train_fold, X_val_fold = X_scaled[train_idx], X_scaled[val_idx]\n",
    "            y_train_fold, y_val_fold = y_train.iloc[train_idx], y_train.iloc[val_idx]\n",
    "\n",
    "            # Initialize and train ElasticNet\n",
    "            elastic_net = ElasticNet(alpha=alpha, l1_ratio=l1_ratio, max_iter=5000, random_state=42)\n",
    "            elastic_net.fit(X_train_fold, y_train_fold)\n",
    "\n",
    "            # Predict on validation fold\n",
    "            y_pred = elastic_net.predict(X_val_fold)\n",
    "            all_y_true.extend(y_val_fold.values.flatten())\n",
    "            all_y_pred.extend(y_pred)\n",
    "\n",
    "        # Compute metrics for the current parameter combination\n",
    "        spearman_corr, _ = spearmanr(all_y_true, all_y_pred)\n",
    "        r2 = r2_score(all_y_true, all_y_pred)\n",
    "\n",
    "        # Store results\n",
    "        results.append({'alpha': alpha, 'l1_ratio': l1_ratio, 'spearman': spearman_corr, 'r2': r2})\n",
    "\n",
    "        print(f\"Alpha: {alpha}, L1 Ratio: {l1_ratio}, Spearman (KFold): {spearman_corr:.4f}, R^2 (KFold): {r2:.4f}\")\n",
    "\n",
    "\n",
    "results_df = pd.DataFrame(results)\n",
    "\n",
    "\n",
    "best_row = results_df.loc[results_df['spearman'].idxmax()]\n",
    "print(\"\\nBest Parameters (by Spearman):\")\n",
    "print(f\"Alpha: {best_row['alpha']}, L1 Ratio: {best_row['l1_ratio']}\")\n",
    "print(f\"Best Spearman Correlation (KFold): {best_row['spearman']:.4f}\")\n",
    "print(f\"Best R-squared (KFold): {best_row['r2']:.4f}\")\n",
    "\n",
    "\n",
    "elastic_net = ElasticNet(alpha=best_row['alpha'], l1_ratio=best_row['l1_ratio'], max_iter=5000, random_state=42)\n",
    "elastic_net.fit(X_scaled, y_train)\n",
    "\n",
    "\n",
    "y_test_pred = elastic_net.predict(X_val_scaled)\n",
    "spearman_corr_test, _ = spearmanr(Y_test.values.flatten(), y_test_pred)\n",
    "rmse_test = np.sqrt(mean_squared_error(Y_test, y_test_pred))\n",
    "r2_test = r2_score(Y_test, y_test_pred)\n",
    "\n",
    "print(\"\\nTest Set Evaluation:\")\n",
    "print(f\"Spearman Correlation (Test): {spearman_corr_test:.4f}\")\n",
    "print(f\"RMSE (Test): {rmse_test:.4f}\")\n",
    "print(f\"R-squared (Test): {r2_test:.4f}\")\n"
   ]
  },
  {
   "cell_type": "code",
   "execution_count": null,
   "metadata": {},
   "outputs": [
    {
     "data": {
      "image/png": "[encoded data removed]",
      "text/plain": [
       "<Figure size 1200x600 with 4 Axes>"
      ]
     },
     "metadata": {},
     "output_type": "display_data"
    }
   ],
   "source": [
    "# Plotting\n",
    "fig, ax = plt.subplots(1, 2, figsize=(12, 6))\n",
    "\n",
    "# Spearman heatmap\n",
    "spearman_pivot = results_df.pivot(columns=[\"alpha\", \"l1_ratio\", \"spearman\"])\n",
    "cax1 = ax[0].imshow(spearman_pivot, interpolation='nearest', origin='lower', cmap='coolwarm')\n",
    "ax[0].set_title(\"Spearman Correlation Heatmap\")\n",
    "ax[0].set_xlabel(\"L1 Ratio\")\n",
    "ax[0].set_ylabel(\"Alpha\")\n",
    "fig.colorbar(cax1, ax=ax[0])\n",
    "\n",
    "# R-squared heatmap\n",
    "r2_pivot = results_df.pivot(columns=[\"alpha\", \"l1_ratio\", \"r2\"])\n",
    "cax2 = ax[1].imshow(r2_pivot, interpolation='nearest', origin='lower', cmap='coolwarm')\n",
    "ax[1].set_title(\"R-squared Heatmap\")\n",
    "ax[1].set_xlabel(\"L1 Ratio\")\n",
    "ax[1].set_ylabel(\"Alpha\")\n",
    "fig.colorbar(cax2, ax=ax[1])\n",
    "\n",
    "plt.tight_layout()\n",
    "plt.show()"
   ]
  },
  {
   "cell_type": "markdown",
   "metadata": {},
   "source": [
    "### Dimensionality Reduction and Scaling"
   ]
  },
  {
   "cell_type": "code",
   "execution_count": 8,
   "metadata": {},
   "outputs": [],
   "source": [
    "pca = PCA(n_components=500, random_state=42)  # Retain top 500 components\n",
    "X_reduced = pca.fit_transform(X_train)\n",
    "X_val_reduced = pca.transform(X_val)\n",
    "\n",
    "X_scaled = scaler.fit_transform(X_reduced) \n",
    "X_val_scaled = scaler.fit_transform(X_val_reduced)"
   ]
  },
  {
   "cell_type": "code",
   "execution_count": 9,
   "metadata": {},
   "outputs": [
    {
     "name": "stdout",
     "output_type": "stream",
     "text": [
      "Spearman Correlation (KFold): 0.3233244827671942\n",
      "RMSE (KFold): 0.09993996357666944\n",
      "R-squared (KFold): 0.08597066065258596\n",
      "Spearman Correlation (Test): 0.3148089196526958\n",
      "RMSE (Test): 0.08256663615587125\n",
      "R-squared (Test): 0.08934320401834339\n"
     ]
    }
   ],
   "source": [
    "spearman_corr_test, rmse_test, r2_test = run_elastic_net(X_scaled, Y_train, X_val_scaled, Y_test)"
   ]
  },
  {
   "cell_type": "markdown",
   "metadata": {},
   "source": [
    "Select K Best seems to be doing a better job than PCA with 500 components"
   ]
  }
 ],
 "metadata": {
  "kernelspec": {
   "display_name": "ml_env",
   "language": "python",
   "name": "python3"
  },
  "language_info": {
   "codemirror_mode": {
    "name": "ipython",
    "version": 3
   },
   "file_extension": ".py",
   "mimetype": "text/x-python",
   "name": "python",
   "nbconvert_exporter": "python",
   "pygments_lexer": "ipython3",
   "version": "3.11.5"
  }
 },
 "nbformat": 4,
 "nbformat_minor": 2
}
