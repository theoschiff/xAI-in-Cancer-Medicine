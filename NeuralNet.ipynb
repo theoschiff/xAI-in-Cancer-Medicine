{
 "cells": [
  {
   "cell_type": "markdown",
   "metadata": {},
   "source": [
    "## Implementation of the Neural Network archtechture\n",
    "\n",
    "This shows one of the possible NN architecture. Other architectures can be used as well and loaded from the models.py file. "
   ]
  },
  {
   "cell_type": "code",
   "execution_count": 1,
   "metadata": {},
   "outputs": [],
   "source": [
    "%load_ext autoreload\n",
    "%autoreload 2"
   ]
  },
  {
   "cell_type": "code",
   "execution_count": 2,
   "metadata": {},
   "outputs": [],
   "source": [
    "from src.models import *\n",
    "from src.train import *\n",
    "from src.data_loader import *\n"
   ]
  },
  {
   "cell_type": "code",
   "execution_count": 3,
   "metadata": {},
   "outputs": [
    {
     "name": "stdout",
     "output_type": "stream",
     "text": [
      "(7744, 500)\n"
     ]
    }
   ],
   "source": [
    "# Load the augmented data \n",
    "# x_train, y_train, x_predict = load_base_data() # In case you want to load the base data\n",
    "x_train, y_train, x_predict = load_augmented_data()\n",
    "\n",
    "# Split the data into train and test\n",
    "X_train, X_test, Y_train, Y_test = train_test_split(x_train, y_train)\n",
    "\n",
    "# Rescale the data and convert it to tensor\n",
    "X_train, X_test, X_predict, Y_train, Y_test = rescale_data_convert_to_tensor(X_train, X_test, x_predict, Y_train, Y_test)\n",
    "\n",
    "# Augment the data by adding gaussian noise\n",
    "X_train, X_test, Y_train, Y_test = augment_data(X_train, X_test, Y_train, Y_test)\n",
    "\n",
    "# Apply PCA and reduce the number of features to 500\n",
    "X_train, X_test, X_predict = apply_PCA(X_train, X_test, X_predict, n_components=500)\n",
    "print(X_train.shape)\n",
    "\n",
    "# Create the datasets and the dataloaders\n",
    "train_dataset, train_loader, test_dataset, test_loader = get_datasets(X_train, Y_train, X_test, Y_test)"
   ]
  },
  {
   "cell_type": "code",
   "execution_count": 4,
   "metadata": {},
   "outputs": [
    {
     "name": "stdout",
     "output_type": "stream",
     "text": [
      "+--------------+------------+\n",
      "|   Modules    | Parameters |\n",
      "+--------------+------------+\n",
      "| enc.0.weight |   256000   |\n",
      "|  enc.0.bias  |    512     |\n",
      "| enc.3.weight |   131072   |\n",
      "|  enc.3.bias  |    256     |\n",
      "| enc.6.weight |    256     |\n",
      "|  enc.6.bias  |     1      |\n",
      "+--------------+------------+\n",
      "Total Trainable Params: 388097\n"
     ]
    },
    {
     "name": "stderr",
     "output_type": "stream",
     "text": [
      "c:\\Users\\jerem\\anaconda3\\envs\\ml\\Lib\\site-packages\\torch\\optim\\lr_scheduler.py:62: UserWarning: The verbose parameter is deprecated. Please use get_last_lr() to access the learning rate.\n",
      "  warnings.warn(\n"
     ]
    },
    {
     "data": {
      "text/plain": [
       "388097"
      ]
     },
     "execution_count": 4,
     "metadata": {},
     "output_type": "execute_result"
    }
   ],
   "source": [
    "# Set the hyperparameters for the encoder decoder training \n",
    "epochs = 3\n",
    "device = \"cuda\" if torch.cuda.is_available() else \"cpu\"\n",
    "neural_net = NeuralNet_1(X_train.shape[1]).to(device)\n",
    "\n",
    "neural_net.apply(init_weights)\n",
    "\n",
    "optimizer = torch.optim.Adam(neural_net.parameters(), lr=1e-3, weight_decay=1e-4)\n",
    "\n",
    "scheduler = torch.optim.lr_scheduler.ReduceLROnPlateau(\n",
    "    optimizer, mode='min', factor=0.5, patience=2, verbose=True, \n",
    ")\n",
    "\n",
    "model_path = './models/neural_net.pth'\n",
    "\n",
    "count_parameters(neural_net)"
   ]
  },
  {
   "cell_type": "code",
   "execution_count": 5,
   "metadata": {},
   "outputs": [
    {
     "data": {
      "application/vnd.jupyter.widget-view+json": {
       "model_id": "66e9f49056e3426aab9bfe87b4c5fdb4",
       "version_major": 2,
       "version_minor": 0
      },
      "text/plain": [
       "  0%|          | 0/968 [00:00<?, ?it/s]"
      ]
     },
     "metadata": {},
     "output_type": "display_data"
    },
    {
     "data": {
      "application/vnd.jupyter.widget-view+json": {
       "model_id": "51c8f793fff547589ab0ae71a38d9abc",
       "version_major": 2,
       "version_minor": 0
      },
      "text/plain": [
       "  0%|          | 0/968 [00:00<?, ?it/s]"
      ]
     },
     "metadata": {},
     "output_type": "display_data"
    },
    {
     "data": {
      "application/vnd.jupyter.widget-view+json": {
       "model_id": "0728ec0cf9d94df8b5283d91295fc03f",
       "version_major": 2,
       "version_minor": 0
      },
      "text/plain": [
       "  0%|          | 0/968 [00:00<?, ?it/s]"
      ]
     },
     "metadata": {},
     "output_type": "display_data"
    }
   ],
   "source": [
    "#training loop\n",
    "train_neural_net(\n",
    "    model = neural_net,\n",
    "    optimizer = optimizer,\n",
    "    scheduler = scheduler,\n",
    "    train_loader = train_loader,\n",
    "    test_loader = test_loader,\n",
    "    Y_test = Y_test,\n",
    "    model_path = model_path,\n",
    "    epochs=epochs,\n",
    ")"
   ]
  },
  {
   "cell_type": "code",
   "execution_count": 6,
   "metadata": {},
   "outputs": [
    {
     "name": "stderr",
     "output_type": "stream",
     "text": [
      "c:\\Users\\jerem\\Documents\\Informatique\\MLCourse\\ml-project-2-the_underfitters\\src\\models.py:54: FutureWarning: You are using `torch.load` with `weights_only=False` (the current default value), which uses the default pickle module implicitly. It is possible to construct malicious pickle data which will execute arbitrary code during unpickling (See https://github.com/pytorch/pytorch/blob/main/SECURITY.md#untrusted-models for more details). In a future release, the default value for `weights_only` will be flipped to `True`. This limits the functions that could be executed during unpickling. Arbitrary objects will no longer be allowed to be loaded via this mode unless they are explicitly allowlisted by the user via `torch.serialization.add_safe_globals`. We recommend you start setting `weights_only=True` for any use case where you don't have full control of the loaded file. Please open an issue on GitHub for any issues related to this experimental feature.\n",
      "  model = torch.load(model_path)\n"
     ]
    },
    {
     "name": "stdout",
     "output_type": "stream",
     "text": [
      "Spearmann R coefficient for neural net is : 0.605841909355867\n",
      "Predicted 304 samples\n"
     ]
    }
   ],
   "source": [
    "# Evaluate the model locally and generate the submission file\n",
    "neural_net = load_model(NeuralNet_1(X_train.shape[1]), model_path)\n",
    "spearmanr_neural_net(neural_net, X_test, Y_test)\n",
    "generate_submission_neural_net(X_predict, x_predict, neural_net)"
   ]
  }
 ],
 "metadata": {
  "kernelspec": {
   "display_name": "ml",
   "language": "python",
   "name": "python3"
  },
  "language_info": {
   "codemirror_mode": {
    "name": "ipython",
    "version": 3
   },
   "file_extension": ".py",
   "mimetype": "text/x-python",
   "name": "python",
   "nbconvert_exporter": "python",
   "pygments_lexer": "ipython3",
   "version": "3.11.9"
  }
 },
 "nbformat": 4,
 "nbformat_minor": 2
}
