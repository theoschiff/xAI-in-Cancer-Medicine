{
 "cells": [
  {
   "cell_type": "markdown",
   "metadata": {},
   "source": [
    "## Implementation of the Neural Network archtechture in a classificaiton problem\n",
    "\n",
    "This shows one of the possible NN architecture. Other architectures can be used as well and loaded from the models.py file. "
   ]
  },
  {
   "cell_type": "code",
   "execution_count": 1,
   "metadata": {},
   "outputs": [],
   "source": [
    "%load_ext autoreload\n",
    "%autoreload 2"
   ]
  },
  {
   "cell_type": "code",
   "execution_count": 2,
   "metadata": {},
   "outputs": [],
   "source": [
    "from src.models import *\n",
    "from src.train import *\n",
    "from src.data_loader import *"
   ]
  },
  {
   "cell_type": "code",
   "execution_count": 3,
   "metadata": {},
   "outputs": [
    {
     "name": "stdout",
     "output_type": "stream",
     "text": [
      "Max possible score with 10 categories : 0.95\n",
      "(7744, 500)\n"
     ]
    }
   ],
   "source": [
    "# Load the augmented data \n",
    "# x_train, y_train, x_predict = load_base_data() # In case you want to load the base data\n",
    "x_train, y_train, x_predict = load_augmented_data()\n",
    "\n",
    "# Round the target to the first decimal in order to create 10 categories\n",
    "y_train_rounded_first_decimal = y_train.round(1)\n",
    "cat_10 = spearmanr(y_train, y_train_rounded_first_decimal)[0]\n",
    "print(f\"Max possible score with 10 categories : {cat_10.round(2)}\")\n",
    "y_train = (y_train_rounded_first_decimal * 10).astype(int)\n",
    "\n",
    "# Split the data into train and test\n",
    "X_train, X_test, Y_train, Y_test = train_test_split(x_train, y_train)\n",
    "\n",
    "# Rescale the data and convert it to tensor\n",
    "X_train, X_test, X_predict, Y_train, Y_test = rescale_data_convert_to_tensor(X_train, X_test, x_predict, Y_train, Y_test, classes=True)\n",
    "\n",
    "# Augment the data by adding gaussian noise\n",
    "X_train, X_test, Y_train, Y_test = augment_data(X_train, X_test, Y_train, Y_test)\n",
    "\n",
    "# Apply PCA and reduce the number of features to 500\n",
    "X_train, X_test, X_predict = apply_PCA(X_train, X_test, X_predict, n_components=500)\n",
    "print(X_train.shape)\n",
    "\n",
    "# Create the datasets and the dataloaders\n",
    "train_dataset, train_loader, test_dataset, test_loader = get_datasets(X_train, Y_train, X_test, Y_test)"
   ]
  },
  {
   "cell_type": "code",
   "execution_count": 4,
   "metadata": {},
   "outputs": [
    {
     "data": {
      "text/plain": [
       "<Axes: ylabel='Frequency'>"
      ]
     },
     "execution_count": 4,
     "metadata": {},
     "output_type": "execute_result"
    },
    {
     "data": {
      "image/png": "[encoded data removed]",
      "text/plain": [
       "<Figure size 640x480 with 1 Axes>"
      ]
     },
     "metadata": {},
     "output_type": "display_data"
    }
   ],
   "source": [
    "#Hisogram of the target distribution. We see that the data is not balanced and that no samples are available for some classes\n",
    "pd.DataFrame(Y_train).plot.hist(bins=10)"
   ]
  },
  {
   "cell_type": "code",
   "execution_count": 5,
   "metadata": {},
   "outputs": [
    {
     "name": "stdout",
     "output_type": "stream",
     "text": [
      "0    3528\n",
      "1    2320\n",
      "2    1216\n",
      "3     408\n",
      "4     168\n",
      "5      32\n",
      "6      32\n",
      "7      16\n",
      "8       8\n",
      "9      16\n",
      "Name: count, dtype: int64\n",
      "0     0.000283\n",
      "1     0.000431\n",
      "2     0.000822\n",
      "3     0.002451\n",
      "4     0.005952\n",
      "5     0.031250\n",
      "6     0.031250\n",
      "7     0.062500\n",
      "8     0.125000\n",
      "9     0.062500\n",
      "10         inf\n",
      "dtype: float64\n",
      "+--------------+------------+\n",
      "|   Modules    | Parameters |\n",
      "+--------------+------------+\n",
      "| enc.0.weight |   192000   |\n",
      "|  enc.0.bias  |    384     |\n",
      "| enc.3.weight |   98304    |\n",
      "|  enc.3.bias  |    256     |\n",
      "| enc.6.weight |   16384    |\n",
      "|  enc.6.bias  |     64     |\n",
      "| enc.8.weight |    704     |\n",
      "|  enc.8.bias  |     11     |\n",
      "+--------------+------------+\n",
      "Total Trainable Params: 308107\n"
     ]
    },
    {
     "name": "stderr",
     "output_type": "stream",
     "text": [
      "c:\\Users\\jerem\\anaconda3\\envs\\ml\\Lib\\site-packages\\torch\\optim\\lr_scheduler.py:62: UserWarning: The verbose parameter is deprecated. Please use get_last_lr() to access the learning rate.\n",
      "  warnings.warn(\n"
     ]
    },
    {
     "data": {
      "text/plain": [
       "308107"
      ]
     },
     "execution_count": 5,
     "metadata": {},
     "output_type": "execute_result"
    }
   ],
   "source": [
    "# Set the hyperparameters for the encoder decoder training \n",
    "epochs = 10\n",
    "number_classes = 11\n",
    "device = \"cuda\" if torch.cuda.is_available() else \"cpu\"\n",
    "neural_net = NeuralNetClasses(X_train.shape[1], number_classes).to(device)\n",
    "\n",
    "neural_net.apply(init_weights)\n",
    "\n",
    "optimizer = torch.optim.Adam(neural_net.parameters(), lr=1e-4, weight_decay=1e-4)\n",
    "\n",
    "\n",
    "all_classes = range(number_classes)\n",
    "class_counts = pd.Series(0, index=all_classes)  # Initialize all to zero\n",
    "actual_counts = pd.Series(Y_train).value_counts().sort_index()  # Actual counts\n",
    "print(actual_counts)\n",
    "\n",
    "class_counts.update(actual_counts)  \n",
    "\n",
    "class_weights = 1.0 / class_counts  # Compute inverse frequency\n",
    "print(class_weights)\n",
    "class_weights = torch.tensor(class_weights.values, dtype=torch.float32).to(device)\n",
    "\n",
    "distance = nn.CrossEntropyLoss(weight=class_weights)\n",
    "\n",
    "scheduler = torch.optim.lr_scheduler.ReduceLROnPlateau(\n",
    "    optimizer, mode='min', factor=0.5, patience=2, verbose=True, \n",
    ")\n",
    "model_path = './models/neural_net_classes.pth'\n",
    "\n",
    "count_parameters(neural_net)"
   ]
  },
  {
   "cell_type": "code",
   "execution_count": 6,
   "metadata": {},
   "outputs": [
    {
     "data": {
      "application/vnd.jupyter.widget-view+json": {
       "model_id": "e6010a53f2454edf816c3fb92088e29b",
       "version_major": 2,
       "version_minor": 0
      },
      "text/plain": [
       "  0%|          | 0/968 [00:00<?, ?it/s]"
      ]
     },
     "metadata": {},
     "output_type": "display_data"
    },
    {
     "data": {
      "application/vnd.jupyter.widget-view+json": {
       "model_id": "d716d9ea8e1543c79352987ab9289879",
       "version_major": 2,
       "version_minor": 0
      },
      "text/plain": [
       "  0%|          | 0/968 [00:00<?, ?it/s]"
      ]
     },
     "metadata": {},
     "output_type": "display_data"
    },
    {
     "data": {
      "application/vnd.jupyter.widget-view+json": {
       "model_id": "bfd1cb025dac45f881c8bec7ea661d24",
       "version_major": 2,
       "version_minor": 0
      },
      "text/plain": [
       "  0%|          | 0/968 [00:00<?, ?it/s]"
      ]
     },
     "metadata": {},
     "output_type": "display_data"
    },
    {
     "data": {
      "application/vnd.jupyter.widget-view+json": {
       "model_id": "37cf193d87404c748e551fdaee9b1e4e",
       "version_major": 2,
       "version_minor": 0
      },
      "text/plain": [
       "  0%|          | 0/968 [00:00<?, ?it/s]"
      ]
     },
     "metadata": {},
     "output_type": "display_data"
    },
    {
     "data": {
      "application/vnd.jupyter.widget-view+json": {
       "model_id": "70a81f8cf73a4b228bc0a27758e63a19",
       "version_major": 2,
       "version_minor": 0
      },
      "text/plain": [
       "  0%|          | 0/968 [00:00<?, ?it/s]"
      ]
     },
     "metadata": {},
     "output_type": "display_data"
    },
    {
     "data": {
      "application/vnd.jupyter.widget-view+json": {
       "model_id": "6cdab56420de4925a85e0ce8b3b5c012",
       "version_major": 2,
       "version_minor": 0
      },
      "text/plain": [
       "  0%|          | 0/968 [00:00<?, ?it/s]"
      ]
     },
     "metadata": {},
     "output_type": "display_data"
    },
    {
     "data": {
      "application/vnd.jupyter.widget-view+json": {
       "model_id": "fb5e0a0a22fd4932a93221c6a238f2de",
       "version_major": 2,
       "version_minor": 0
      },
      "text/plain": [
       "  0%|          | 0/968 [00:00<?, ?it/s]"
      ]
     },
     "metadata": {},
     "output_type": "display_data"
    },
    {
     "data": {
      "application/vnd.jupyter.widget-view+json": {
       "model_id": "a489b7a7cd544a1f843ec8c67e32b2bf",
       "version_major": 2,
       "version_minor": 0
      },
      "text/plain": [
       "  0%|          | 0/968 [00:00<?, ?it/s]"
      ]
     },
     "metadata": {},
     "output_type": "display_data"
    },
    {
     "data": {
      "application/vnd.jupyter.widget-view+json": {
       "model_id": "59896f30de50463ba6ded50007ad2790",
       "version_major": 2,
       "version_minor": 0
      },
      "text/plain": [
       "  0%|          | 0/968 [00:00<?, ?it/s]"
      ]
     },
     "metadata": {},
     "output_type": "display_data"
    },
    {
     "data": {
      "application/vnd.jupyter.widget-view+json": {
       "model_id": "e8bc650fb66c4de59465314adedf21ed",
       "version_major": 2,
       "version_minor": 0
      },
      "text/plain": [
       "  0%|          | 0/968 [00:00<?, ?it/s]"
      ]
     },
     "metadata": {},
     "output_type": "display_data"
    }
   ],
   "source": [
    "#training loop\n",
    "train_neural_net_classes(\n",
    "    model = neural_net,\n",
    "    distance=distance,\n",
    "    optimizer = optimizer,\n",
    "    scheduler = scheduler,\n",
    "    train_loader = train_loader,\n",
    "    test_loader = test_loader,\n",
    "    Y_test = Y_test,\n",
    "    model_path = model_path,\n",
    "    epochs=epochs,\n",
    ")"
   ]
  },
  {
   "cell_type": "code",
   "execution_count": 7,
   "metadata": {},
   "outputs": [
    {
     "name": "stderr",
     "output_type": "stream",
     "text": [
      "c:\\Users\\jerem\\Documents\\Informatique\\MLCourse\\ml-project-2-the_underfitters\\src\\models.py:54: FutureWarning: You are using `torch.load` with `weights_only=False` (the current default value), which uses the default pickle module implicitly. It is possible to construct malicious pickle data which will execute arbitrary code during unpickling (See https://github.com/pytorch/pytorch/blob/main/SECURITY.md#untrusted-models for more details). In a future release, the default value for `weights_only` will be flipped to `True`. This limits the functions that could be executed during unpickling. Arbitrary objects will no longer be allowed to be loaded via this mode unless they are explicitly allowlisted by the user via `torch.serialization.add_safe_globals`. We recommend you start setting `weights_only=True` for any use case where you don't have full control of the loaded file. Please open an issue on GitHub for any issues related to this experimental feature.\n",
      "  model = torch.load(model_path)\n"
     ]
    },
    {
     "name": "stdout",
     "output_type": "stream",
     "text": [
      "Spearmann R coefficient for neural net is : 0.4820134852790133\n",
      "Predicted 304 samples\n"
     ]
    }
   ],
   "source": [
    "# Evaluate the model locally and generate the submission file\n",
    "neural_net = load_model(NeuralNetClasses(X_train.shape[1], number_classes), model_path)\n",
    "spearmanr_neural_net(neural_net, X_test, Y_test, classes=True)\n",
    "generate_submission_neural_net(X_predict, x_predict, neural_net, classes=True, path_to_file='./submissions/neural_net_classes.csv')"
   ]
  }
 ],
 "metadata": {
  "kernelspec": {
   "display_name": "ml",
   "language": "python",
   "name": "python3"
  },
  "language_info": {
   "codemirror_mode": {
    "name": "ipython",
    "version": 3
   },
   "file_extension": ".py",
   "mimetype": "text/x-python",
   "name": "python",
   "nbconvert_exporter": "python",
   "pygments_lexer": "ipython3",
   "version": "3.11.9"
  }
 },
 "nbformat": 4,
 "nbformat_minor": 2
}
